{
 "cells": [
  {
   "cell_type": "markdown",
   "metadata": {},
   "source": []
  },
  {
   "cell_type": "markdown",
   "metadata": {},
   "source": [
    "# TM10007 Group Assignment Machine Learning\n",
    "#### Sara Arman, Judith Essenburg, George Franssen, Naomi Verkerk"
   ]
  },
  {
   "cell_type": "markdown",
   "metadata": {},
   "source": [
    "## Google colab environment"
   ]
  },
  {
   "cell_type": "code",
   "execution_count": 5,
   "metadata": {},
   "outputs": [],
   "source": [
    "# Run this to use from colab environment\n",
    "#!pip install -q --upgrade git+https://github.com/naomiverkerk/TM10007.git"
   ]
  },
  {
   "cell_type": "markdown",
   "metadata": {},
   "source": [
    "## Import\n"
   ]
  },
  {
   "cell_type": "code",
   "execution_count": 6,
   "metadata": {},
   "outputs": [],
   "source": [
    "\n",
    "from load_data import load_data"
   ]
  },
  {
   "cell_type": "markdown",
   "metadata": {},
   "source": [
    "## Loading Data"
   ]
  },
  {
   "cell_type": "code",
   "execution_count": 7,
   "metadata": {},
   "outputs": [
    {
     "name": "stdout",
     "output_type": "stream",
     "text": [
      "The number of samples/patients: 167\n",
      "The number of columns/features: 725\n"
     ]
    }
   ],
   "source": [
    "\n",
    "data = load_data() \n",
    "\n",
    "print(f'The number of samples/patients: {len(data.index)}')\n",
    "print(f'The number of columns/features: {len(data.columns)}')\n"
   ]
  },
  {
   "cell_type": "markdown",
   "metadata": {},
   "source": [
    "## Splitting in train and test data"
   ]
  },
  {
   "cell_type": "code",
   "execution_count": 8,
   "metadata": {},
   "outputs": [],
   "source": [
    "# the code to split, after that we inspect the data"
   ]
  },
  {
   "cell_type": "markdown",
   "metadata": {},
   "source": [
    "## Checking/exploring the dataset"
   ]
  },
  {
   "cell_type": "code",
   "execution_count": 22,
   "metadata": {},
   "outputs": [
    {
     "name": "stdout",
     "output_type": "stream",
     "text": [
      "722\n",
      "3\n",
      "Index(['VOLUME_ET_OVER_ED', 'VOLUME_NET_OVER_ED', 'label'], dtype='object')\n"
     ]
    }
   ],
   "source": [
    "data.dtypes == 'object'\n",
    "# Seperate numerical variables and categorical variables\n",
    "num_vars = data.columns[data.dtypes != 'object']\n",
    "cat_vars = data.columns[data.dtypes == 'object']\n",
    "\n",
    "print(len(num_vars))\n",
    "print(len(cat_vars))\n",
    "print(cat_vars)"
   ]
  },
  {
   "cell_type": "code",
   "execution_count": 50,
   "metadata": {},
   "outputs": [
    {
     "name": "stdout",
     "output_type": "stream",
     "text": [
      "TGM_T_6                         166\n",
      "TGM_Cog_Z_6                     166\n",
      "TGM_Cog_Y_6                     166\n",
      "TGM_Cog_X_6                     166\n",
      "TGM_Cog_X_5                     164\n",
      "                               ... \n",
      "TEXTURE_GLRLM_NET_T1Gd_LRLGE      0\n",
      "TEXTURE_GLRLM_NET_T1Gd_SRHGE      0\n",
      "TEXTURE_GLRLM_NET_T1Gd_SRLGE      0\n",
      "TEXTURE_GLRLM_NET_T1Gd_HGRE       0\n",
      "VOLUME_ET                         0\n",
      "Length: 722, dtype: int64\n",
      "The total number of features with 1 or more missing values is 464\n"
     ]
    }
   ],
   "source": [
    "# to check which features have most missing values\n",
    "missing_values = data[num_vars].isnull().sum().sort_values(ascending=False)\n",
    "missing_values_multiple = (missing_values > 0).sum()\n",
    "\n",
    "print(missing_values)\n",
    "print(f'The total number of features with 1 or more missing values is {missing_values_multiple}')\n",
    "\n"
   ]
  }
 ],
 "metadata": {
  "interpreter": {
   "hash": "99c346a2273ffdba9d13565a7efa8a03dbcb19c3f8c63eac036f68118855a3ce"
  },
  "kernelspec": {
   "display_name": "Python 3.9.5 ('base')",
   "language": "python",
   "name": "python3"
  },
  "language_info": {
   "codemirror_mode": {
    "name": "ipython",
    "version": 3
   },
   "file_extension": ".py",
   "mimetype": "text/x-python",
   "name": "python",
   "nbconvert_exporter": "python",
   "pygments_lexer": "ipython3",
   "version": "3.9.5"
  },
  "orig_nbformat": 4
 },
 "nbformat": 4,
 "nbformat_minor": 2
}
